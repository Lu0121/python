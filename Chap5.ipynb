{
  "nbformat": 4,
  "nbformat_minor": 0,
  "metadata": {
    "colab": {
      "name": "Chap5",
      "provenance": [],
      "collapsed_sections": []
    },
    "kernelspec": {
      "name": "python3",
      "display_name": "Python 3"
    },
    "language_info": {
      "name": "python"
    }
  },
  "cells": [
    {
      "cell_type": "markdown",
      "source": [
        "# 函式\n",
        "### ●獨立出來的程式組\n",
        "### ●可以接收傳入值(多個) \n",
        "### ●輸出回傳值(一個)"
      ],
      "metadata": {
        "id": "YVTTa8w5i6aN"
      }
    },
    {
      "cell_type": "code",
      "execution_count": null,
      "metadata": {
        "colab": {
          "base_uri": "https://localhost:8080/"
        },
        "id": "WmpBrb_Qi2MR",
        "outputId": "0c09cef8-bcba-44a8-d45e-f3f0c1531000"
      },
      "outputs": [
        {
          "output_type": "stream",
          "name": "stdout",
          "text": [
            "請輸入圓的半徑: 10\n",
            "圓的面積為:  314.1592653589793\n"
          ]
        }
      ],
      "source": [
        "# 傳統的寫法\n",
        "import math\n",
        "radius=eval(input(\"請輸入圓的半徑: \"))\n",
        "print(\"圓的面積為: \",radius * radius * math.pi)"
      ]
    },
    {
      "cell_type": "markdown",
      "source": [
        "#圓面積計算函式\n"
      ],
      "metadata": {
        "id": "1AV9MU25lXBA"
      }
    },
    {
      "cell_type": "code",
      "source": [
        "import math\n",
        "def circle_area(radius):\n",
        "  area = radius * radius * math.pi\n",
        "  return area\n",
        "\n",
        "print(\"半徑10,圓面積為:\",circle_area(10))"
      ],
      "metadata": {
        "colab": {
          "base_uri": "https://localhost:8080/"
        },
        "id": "DIB5zo91liJI",
        "outputId": "433822e9-f725-4032-895e-f18982fd9aa5"
      },
      "execution_count": null,
      "outputs": [
        {
          "output_type": "stream",
          "name": "stdout",
          "text": [
            "半徑10,圓面積為: 314.1592653589793\n"
          ]
        }
      ]
    }
  ]
}