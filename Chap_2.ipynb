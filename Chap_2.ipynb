{
  "nbformat": 4,
  "nbformat_minor": 0,
  "metadata": {
    "colab": {
      "name": "Chap2",
      "provenance": [],
      "collapsed_sections": []
    },
    "kernelspec": {
      "name": "python3",
      "display_name": "Python 3"
    },
    "language_info": {
      "name": "python"
    }
  },
  "cells": [
    {
      "cell_type": "markdown",
      "source": [
        "# Chap2 流程控制"
      ],
      "metadata": {
        "id": "LBZBhiB8RR1z"
      }
    },
    {
      "cell_type": "markdown",
      "source": [
        "## if else , elif"
      ],
      "metadata": {
        "id": "hLc5EA0-RULr"
      }
    },
    {
      "cell_type": "code",
      "execution_count": null,
      "metadata": {
        "colab": {
          "base_uri": "https://localhost:8080/"
        },
        "id": "rHu8yFxiPN6j",
        "outputId": "d9fcfb88-3845-4979-a2e5-90b8a1280b34"
      },
      "outputs": [
        {
          "output_type": "stream",
          "name": "stdout",
          "text": [
            "b>a\n"
          ]
        }
      ],
      "source": [
        "a=3\n",
        "b=4\n",
        "if a>b:\n",
        "  print(\"a>b\")\n",
        "else:\n",
        "  print(\"b>a\")"
      ]
    },
    {
      "cell_type": "code",
      "source": [
        "a=3\n",
        "b=3\n",
        "if a>b:\n",
        "  print(\"a>b\")\n",
        "elif a==b:\n",
        "  print(\"a=b\")\n",
        "else:\n",
        "  print(\"b>a\")"
      ],
      "metadata": {
        "colab": {
          "base_uri": "https://localhost:8080/"
        },
        "id": "w_3a7s3VSk0V",
        "outputId": "89ee885e-4b2b-4ff6-8c37-5468df82ce01"
      },
      "execution_count": null,
      "outputs": [
        {
          "output_type": "stream",
          "name": "stdout",
          "text": [
            "a=b\n"
          ]
        }
      ]
    },
    {
      "cell_type": "code",
      "source": [
        "a=eval(input(\"請輸入數字a:\"))\n",
        "b=eval(input(\"請輸入數字b:\"))\n",
        "if a>b:\n",
        "  print(\"a>b\")\n",
        "elif a==b:\n",
        "  print(\"a=b\")\n",
        "else:\n",
        "  print(\"b>a\")"
      ],
      "metadata": {
        "colab": {
          "base_uri": "https://localhost:8080/"
        },
        "id": "-q13vr3FU9Tc",
        "outputId": "7c032e3a-980c-45d7-9649-be59b1586d26"
      },
      "execution_count": null,
      "outputs": [
        {
          "output_type": "stream",
          "name": "stdout",
          "text": [
            "請輸入數字a:4\n",
            "請輸入數字b:3\n",
            "a>b\n"
          ]
        }
      ]
    },
    {
      "cell_type": "code",
      "source": [
        "grade=70\n",
        "print(\"成績評鑑：\")\n",
        "if grade >= 90:\n",
        "    print(\"優等\")\n",
        "elif grade >=80:\n",
        "    print(\"甲等\")\n",
        "elif grade >=70:\n",
        "    print(\"乙等\")\n",
        "elif grade >=60:\n",
        "    print(\"丙等\")\n",
        "else:\n",
        "    print(\"不及格\")"
      ],
      "metadata": {
        "colab": {
          "base_uri": "https://localhost:8080/"
        },
        "id": "HSPBuyaRXLs2",
        "outputId": "1f415bb5-5daa-4305-fafd-6b6bc7877064"
      },
      "execution_count": null,
      "outputs": [
        {
          "output_type": "stream",
          "name": "stdout",
          "text": [
            "成績評鑑：\n",
            "乙等\n"
          ]
        }
      ]
    },
    {
      "cell_type": "markdown",
      "source": [
        "## for 迴圈"
      ],
      "metadata": {
        "id": "q_YJ8nSubzCM"
      }
    },
    {
      "cell_type": "code",
      "source": [
        "for i in range(10): #range(10): 0,1,2,...9\n",
        "  print(i)"
      ],
      "metadata": {
        "colab": {
          "base_uri": "https://localhost:8080/"
        },
        "id": "4nKWZGl6bv3-",
        "outputId": "2aeb3e18-fa89-4949-b87e-96d715dbc482"
      },
      "execution_count": null,
      "outputs": [
        {
          "output_type": "stream",
          "name": "stdout",
          "text": [
            "0\n",
            "1\n",
            "2\n",
            "3\n",
            "4\n",
            "5\n",
            "6\n",
            "7\n",
            "8\n",
            "9\n"
          ]
        }
      ]
    },
    {
      "cell_type": "code",
      "source": [
        "for i in range(0,10,1): #range(0開始,9結束(不包含10),每次進1步)\n",
        "  print(i)"
      ],
      "metadata": {
        "colab": {
          "base_uri": "https://localhost:8080/"
        },
        "id": "fNQVYeVvcPNt",
        "outputId": "b33b37e5-4e92-45ce-f89c-0e3c0c3d2414"
      },
      "execution_count": null,
      "outputs": [
        {
          "output_type": "stream",
          "name": "stdout",
          "text": [
            "0\n",
            "1\n",
            "2\n",
            "3\n",
            "4\n",
            "5\n",
            "6\n",
            "7\n",
            "8\n",
            "9\n"
          ]
        }
      ]
    },
    {
      "cell_type": "markdown",
      "source": [
        "### 求1+2+3...10的總和"
      ],
      "metadata": {
        "id": "CWUkG0MzelM-"
      }
    },
    {
      "cell_type": "code",
      "source": [
        "#1+2+3...+10總和\n",
        "sum=0\n",
        "for count in range(1,11,1):\n",
        "  sum=sum+count\n",
        "\n",
        "print(sum)"
      ],
      "metadata": {
        "colab": {
          "base_uri": "https://localhost:8080/"
        },
        "id": "vhFhqhMVewmU",
        "outputId": "d51e0ca3-158b-44fe-c858-2b4358260690"
      },
      "execution_count": null,
      "outputs": [
        {
          "output_type": "stream",
          "name": "stdout",
          "text": [
            "55\n"
          ]
        }
      ]
    },
    {
      "cell_type": "code",
      "source": [
        "for c in \"I am a girl\":\n",
        "  print(c)"
      ],
      "metadata": {
        "colab": {
          "base_uri": "https://localhost:8080/"
        },
        "id": "rFyFXV4dhbrO",
        "outputId": "85c8c427-3308-43b8-c011-2913353d7be8"
      },
      "execution_count": null,
      "outputs": [
        {
          "output_type": "stream",
          "name": "stdout",
          "text": [
            "I\n",
            " \n",
            "a\n",
            "m\n",
            " \n",
            "a\n",
            " \n",
            "g\n",
            "i\n",
            "r\n",
            "l\n"
          ]
        }
      ]
    },
    {
      "cell_type": "code",
      "source": [
        "for score in [90,100,88,77]:\n",
        " print(score)"
      ],
      "metadata": {
        "colab": {
          "base_uri": "https://localhost:8080/"
        },
        "id": "c3I0g6Khhb3k",
        "outputId": "382d47aa-a803-4ead-eb8a-884109fcea32"
      },
      "execution_count": null,
      "outputs": [
        {
          "output_type": "stream",
          "name": "stdout",
          "text": [
            "90\n",
            "100\n",
            "88\n",
            "77\n"
          ]
        }
      ]
    },
    {
      "cell_type": "code",
      "source": [
        "for s in [\"john\",\"mary\",\"tom\",\"simpson\"]:\n",
        "  print(s)"
      ],
      "metadata": {
        "id": "R_t-Uw_ihb99",
        "colab": {
          "base_uri": "https://localhost:8080/"
        },
        "outputId": "32847131-6b12-4b87-9890-9be0ebcffcb8"
      },
      "execution_count": 1,
      "outputs": [
        {
          "output_type": "stream",
          "name": "stdout",
          "text": [
            "john\n",
            "mary\n",
            "tom\n",
            "simpson\n"
          ]
        }
      ]
    },
    {
      "cell_type": "markdown",
      "source": [
        "## while迴圈"
      ],
      "metadata": {
        "id": "HnaUZGpz41r2"
      }
    },
    {
      "cell_type": "code",
      "source": [
        "i=1\n",
        "sum=0\n",
        "while i<11:\n",
        " sum=sum+1\n",
        " i+=1\n",
        "\n",
        "print(sum)\n"
      ],
      "metadata": {
        "colab": {
          "base_uri": "https://localhost:8080/"
        },
        "id": "cBoQqwDE42xZ",
        "outputId": "c66edfb9-2d7c-453a-b990-db7a438fb3fa"
      },
      "execution_count": 2,
      "outputs": [
        {
          "output_type": "stream",
          "name": "stdout",
          "text": [
            "10\n"
          ]
        }
      ]
    }
  ]
}