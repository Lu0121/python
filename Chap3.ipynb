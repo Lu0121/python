{
  "nbformat": 4,
  "nbformat_minor": 0,
  "metadata": {
    "colab": {
      "name": "Chap3",
      "provenance": [],
      "collapsed_sections": []
    },
    "kernelspec": {
      "name": "python3",
      "display_name": "Python 3"
    },
    "language_info": {
      "name": "python"
    }
  },
  "cells": [
    {
      "cell_type": "markdown",
      "source": [
        "# Python物件\n",
        "## List[串列] Tuple(元組) Dictionary{字典} Sets{集合}"
      ],
      "metadata": {
        "id": "Pfyak-jnbEwk"
      }
    },
    {
      "cell_type": "markdown",
      "source": [
        "## List[串列]\n",
        "使用中括號[]包裹元素"
      ],
      "metadata": {
        "id": "V4QGwvYBbKSd"
      }
    },
    {
      "cell_type": "code",
      "execution_count": null,
      "metadata": {
        "colab": {
          "base_uri": "https://localhost:8080/"
        },
        "id": "QBoOYdZAZXcS",
        "outputId": "79568404-a203-421f-d7e9-f204ce1d455e"
      },
      "outputs": [
        {
          "output_type": "stream",
          "name": "stdout",
          "text": [
            "[]\n",
            "['python', 'javascript', 'c#']\n",
            "3\n",
            "c#\n"
          ]
        }
      ],
      "source": [
        "my_list0=[]\n",
        "print(my_list0)\n",
        "my_list1=list()\n",
        "my_list2=['python','javascript','c#']\n",
        "print(my_list2)\n",
        "print(len(my_list2)) #len:計算list的長度\n",
        "print(my_list2[2])"
      ]
    },
    {
      "cell_type": "code",
      "source": [
        "my_list2=['python','javascript','c#']\n",
        "my_list2.append('java') #append:附加在最後面\n",
        "print(my_list2)\n",
        "my_list2.remove('java') #remove:移除\n",
        "print(my_list2)\n",
        "my_list2.insert(0,'java') #insert:插入物件,需要指定索引位置\n",
        "print(my_list2)\n",
        "my_list2.clear() #clear:清除所有物件\n",
        "print(my_list2)"
      ],
      "metadata": {
        "colab": {
          "base_uri": "https://localhost:8080/"
        },
        "id": "eEtm5DpMeVBT",
        "outputId": "41491931-017d-4fbe-9bf5-2bd56e1e6230"
      },
      "execution_count": null,
      "outputs": [
        {
          "output_type": "stream",
          "name": "stdout",
          "text": [
            "['python', 'javascript', 'c#', 'java']\n",
            "['python', 'javascript', 'c#']\n",
            "['java', 'python', 'javascript', 'c#']\n",
            "[]\n"
          ]
        }
      ]
    },
    {
      "cell_type": "code",
      "source": [
        "a=[1,2,3]\n",
        "b=[4,5,6]\n",
        "c=a+b\n",
        "print(c)\n",
        "d=a*2\n",
        "print(d)"
      ],
      "metadata": {
        "colab": {
          "base_uri": "https://localhost:8080/"
        },
        "id": "-K01pqJQhm5S",
        "outputId": "f55f7437-391c-4aaf-808a-2167093a47cc"
      },
      "execution_count": null,
      "outputs": [
        {
          "output_type": "stream",
          "name": "stdout",
          "text": [
            "[1, 2, 3, 4, 5, 6]\n",
            "[1, 2, 3, 1, 2, 3]\n"
          ]
        }
      ]
    },
    {
      "cell_type": "code",
      "source": [
        ""
      ],
      "metadata": {
        "id": "doD0P5t0h5oh"
      },
      "execution_count": null,
      "outputs": []
    }
  ]
}