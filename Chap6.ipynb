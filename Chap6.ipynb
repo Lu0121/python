{
  "nbformat": 4,
  "nbformat_minor": 0,
  "metadata": {
    "colab": {
      "name": "Chap6",
      "provenance": [],
      "collapsed_sections": []
    },
    "kernelspec": {
      "name": "python3",
      "display_name": "Python 3"
    },
    "language_info": {
      "name": "python"
    }
  },
  "cells": [
    {
      "cell_type": "markdown",
      "source": [
        "# Chap6 檔案文件\n",
        "os套件：用來處理文件與目錄，與檔案相關操作"
      ],
      "metadata": {
        "id": "l1FyE111hQCj"
      }
    },
    {
      "cell_type": "code",
      "execution_count": null,
      "metadata": {
        "colab": {
          "base_uri": "https://localhost:8080/"
        },
        "id": "rSYIwu3gg-dz",
        "outputId": "bc9af4e3-8f79-44d5-ef1e-df5868aedbd5"
      },
      "outputs": [
        {
          "output_type": "stream",
          "name": "stdout",
          "text": [
            "/content\n"
          ]
        }
      ],
      "source": [
        "import os\n",
        "print(os.getcwd()) #或許目前工作目錄"
      ]
    },
    {
      "cell_type": "code",
      "source": [
        "print(os.listdir())"
      ],
      "metadata": {
        "colab": {
          "base_uri": "https://localhost:8080/"
        },
        "id": "jemo0mfChu3S",
        "outputId": "8687dda3-2045-442b-b260-0bbe649b8fa2"
      },
      "execution_count": null,
      "outputs": [
        {
          "output_type": "stream",
          "name": "stdout",
          "text": [
            "['.config', 'sample_data']\n"
          ]
        }
      ]
    },
    {
      "cell_type": "code",
      "source": [
        "os.makedirs(\"test\") #在目前目錄下,建立一個名為\"test\"的目錄\n",
        "os.listdir()"
      ],
      "metadata": {
        "colab": {
          "base_uri": "https://localhost:8080/"
        },
        "id": "hIJgDxhfkIpC",
        "outputId": "baafda2f-30d2-4360-eab8-575f4b3b8f05"
      },
      "execution_count": null,
      "outputs": [
        {
          "output_type": "execute_result",
          "data": {
            "text/plain": [
              "['.config', 'test', 'sample_data']"
            ]
          },
          "metadata": {},
          "execution_count": 3
        }
      ]
    },
    {
      "cell_type": "code",
      "source": [
        "os.rmdir(\"test\") #刪除test目錄\n",
        "os.listdir()"
      ],
      "metadata": {
        "colab": {
          "base_uri": "https://localhost:8080/"
        },
        "id": "FyU63xiRkuWq",
        "outputId": "ec2f9b7a-6893-4143-9221-efa447f245c3"
      },
      "execution_count": null,
      "outputs": [
        {
          "output_type": "execute_result",
          "data": {
            "text/plain": [
              "['.config', 'sample_data']"
            ]
          },
          "metadata": {},
          "execution_count": 4
        }
      ]
    },
    {
      "cell_type": "markdown",
      "source": [
        "## 檔案的開啟跟寫入\n",
        "os套件有自己的檔案處理命令，而比較常用的是python內建的open\n",
        "* w = 可寫(預設建立檔案) 若檔案存在則會清除舊檔案\n",
        "* w+ = 可寫可讀(預設建立檔案) 若檔案存在則會清除舊檔案\n",
        "* r = 可讀\n",
        "* r+ = 可寫可讀 但寫入資料指向開頭\n",
        "* a = 可寫不能讀 寫入資料指向尾端\n",
        "* a+ = 可寫可讀 寫入資料指向尾端\n",
        "* b = 轉為2進位文件\n",
        "* ab+ = 2進位文件的讀寫 寫入資料指向尾端"
      ],
      "metadata": {
        "id": "sipzR7ammBR3"
      }
    },
    {
      "cell_type": "code",
      "source": [
        "#a=open()  #python內建開檔\n",
        "#a=os.open()  #os套件的開檔"
      ],
      "metadata": {
        "id": "aSsYQIM5l_Sf"
      },
      "execution_count": null,
      "outputs": []
    },
    {
      "cell_type": "code",
      "source": [
        "#新增檔案\n",
        "a=open(\"a.txt\",\"w\")\n",
        "a.write(\"This is a test1\")\n",
        "a.write(\"This is a test2\\n\")\n",
        "a.write(\"This is a test3\\n\")\n",
        "a.close()"
      ],
      "metadata": {
        "id": "LWsyzc3YnC4Q"
      },
      "execution_count": null,
      "outputs": []
    },
    {
      "cell_type": "code",
      "source": [
        "os.path.isfile(\"a.txt\")"
      ],
      "metadata": {
        "colab": {
          "base_uri": "https://localhost:8080/"
        },
        "id": "dyWYDBoWopS9",
        "outputId": "4616eb51-a0c2-415e-fcdd-0546c9cf90d0"
      },
      "execution_count": null,
      "outputs": [
        {
          "output_type": "execute_result",
          "data": {
            "text/plain": [
              "True"
            ]
          },
          "metadata": {},
          "execution_count": 10
        }
      ]
    },
    {
      "cell_type": "code",
      "source": [
        "a=open(\"a.txt\",\"r\")\n",
        "print(a.readline())\n",
        "print(a.readline())\n",
        "a.close()"
      ],
      "metadata": {
        "colab": {
          "base_uri": "https://localhost:8080/"
        },
        "id": "IyIdhRDwo35Y",
        "outputId": "6cf43c38-c7f1-47f4-9406-e0a22541aef7"
      },
      "execution_count": null,
      "outputs": [
        {
          "output_type": "stream",
          "name": "stdout",
          "text": [
            "This is a test1This is a test2\n",
            "\n",
            "This is a test3\n",
            "\n"
          ]
        }
      ]
    },
    {
      "cell_type": "code",
      "source": [
        "if os.path.isfile(\"a.txt\"):\n",
        "  a=open(\"a.txt\",\"r\")\n",
        "  print(a.readline()) #readline()一次讀取一行\n",
        "  print(a.readline()) \n",
        "  a.close()\n",
        "else:\n",
        "  print(\"檔案不存在\")"
      ],
      "metadata": {
        "colab": {
          "base_uri": "https://localhost:8080/"
        },
        "id": "jooloCHMw7F8",
        "outputId": "fcb79ab2-1f99-49b8-9ae7-6121e6811ee4"
      },
      "execution_count": null,
      "outputs": [
        {
          "output_type": "stream",
          "name": "stdout",
          "text": [
            "This is a test1This is a test2\n",
            "\n",
            "This is a test3\n",
            "\n"
          ]
        }
      ]
    },
    {
      "cell_type": "code",
      "source": [
        "if os.path.isfile(\"a.txt\"):\n",
        "  a=open(\"a.txt\",\"r\")\n",
        "  for line in a:  #一行一行讀取a檔案\n",
        "   print(line.split(\" \")) #根據\" \"(空白)來切割每一行\n",
        "  a.close()\n",
        "else:\n",
        "  print(\"檔案不存在\")"
      ],
      "metadata": {
        "colab": {
          "base_uri": "https://localhost:8080/"
        },
        "id": "2KXLZPgww6-0",
        "outputId": "fd684848-7b4c-482c-e4b1-88ba1e100026"
      },
      "execution_count": null,
      "outputs": [
        {
          "output_type": "stream",
          "name": "stdout",
          "text": [
            "['This', 'is', 'a', 'test1This', 'is', 'a', 'test2\\n']\n",
            "['This', 'is', 'a', 'test3\\n']\n"
          ]
        }
      ]
    },
    {
      "cell_type": "markdown",
      "source": [
        "##附加檔案"
      ],
      "metadata": {
        "id": "sXUre4wfw8ee"
      }
    },
    {
      "cell_type": "code",
      "source": [
        "a=open(\"a.txt\", \"a\") #在檔案的尾巴加上資料\n",
        "a.write(\"This is a test4\\n\")\n",
        "a.close()"
      ],
      "metadata": {
        "id": "z5Y8o58G0U3G"
      },
      "execution_count": null,
      "outputs": []
    },
    {
      "cell_type": "code",
      "source": [
        "a=open(\"a.txt\",\"r\")\n",
        "print(a.readlines()) #讀取所有的行\n",
        "a.close()"
      ],
      "metadata": {
        "colab": {
          "base_uri": "https://localhost:8080/"
        },
        "id": "DnLtEIur0hxo",
        "outputId": "8e137317-6e1e-4647-aebb-cb98eb3e9345"
      },
      "execution_count": null,
      "outputs": [
        {
          "output_type": "stream",
          "name": "stdout",
          "text": [
            "['This is a test1This is a test2\\n', 'This is a test3\\n', 'This is a test4\\n']\n"
          ]
        }
      ]
    },
    {
      "cell_type": "code",
      "source": [
        "#如果需要附加在檔案最前方,要用r+參數\n",
        "a=open(\"a.txt\",\"r+\") #在檔案的最前方加上資料\n",
        "a.write(\"This is a test5\\n\")\n",
        "a.close()"
      ],
      "metadata": {
        "id": "h1omdLBF0pch"
      },
      "execution_count": null,
      "outputs": []
    },
    {
      "cell_type": "code",
      "source": [
        "a=open(\"a.txt\",\"r\")\n",
        "print(a.readlines()) #讀取所有的行\n",
        "a.close()"
      ],
      "metadata": {
        "colab": {
          "base_uri": "https://localhost:8080/"
        },
        "id": "3uEI0DCh0vk9",
        "outputId": "a2dc635a-9c47-4209-c6c7-9f1e71a7fb4e"
      },
      "execution_count": null,
      "outputs": [
        {
          "output_type": "stream",
          "name": "stdout",
          "text": [
            "['This is a test5\\n', 'his is a test2\\n', 'This is a test3\\n', 'This is a test4\\n']\n"
          ]
        }
      ]
    }
  ]
}